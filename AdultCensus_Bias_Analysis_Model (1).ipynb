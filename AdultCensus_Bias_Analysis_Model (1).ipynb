{
  "nbformat": 4,
  "nbformat_minor": 0,
  "metadata": {
    "colab": {
      "provenance": [],
      "collapsed_sections": [
        "JJIrZ5S3Lf5V"
      ]
    },
    "kernelspec": {
      "name": "python3",
      "display_name": "Python 3"
    },
    "language_info": {
      "name": "python"
    }
  },
  "cells": [
    {
      "cell_type": "markdown",
      "source": [
        "Here’s a clear overview of your project and dataset:\n",
        "\n",
        "---\n",
        "\n",
        "## **Project Overview**\n",
        "\n",
        "**Objective:**\n",
        "The main goal is to build a machine learning model to predict whether an individual earns more than \\$50K per year (`income` column). Additionally, the project will incorporate **fairness and bias analysis** to ensure that predictions are equitable, particularly concerning protected attributes like `sex` and `race`.\n",
        "\n",
        "**Key Steps in the Project:**\n",
        "\n",
        "1. **Data Collection & Cleaning:** Load the dataset, handle missing values, standardize column names, and check for duplicates.\n",
        "2. **Exploratory Data Analysis (EDA):** Understand distributions, relationships, and identify potential bias patterns.\n",
        "3. **Data Preprocessing & Encoding:** Convert categorical variables into numerical form while preserving protected attributes for bias analysis.\n",
        "4. **Baseline Model Building:** Train a classification model (e.g., Logistic Regression, Random Forest) on the cleaned dataset.\n",
        "5. **Bias & Fairness Assessment:** Analyze model predictions for disparities across protected attributes (sex, race).\n",
        "6. **Mitigation Strategies:** Apply techniques like reweighting, resampling, or fairness-aware algorithms if bias is detected.\n",
        "7. **Insights & Recommendations:** Provide actionable findings for stakeholders, including real-world implications and strategies for equitable decision-making.\n",
        "\n"
      ],
      "metadata": {
        "id": "lhVrhzAvJMwG"
      }
    },
    {
      "cell_type": "markdown",
      "source": [
        "**Mounting Google Drive.**"
      ],
      "metadata": {
        "id": "G8mD3inqiO4G"
      }
    },
    {
      "cell_type": "code",
      "source": [
        "from google.colab import drive\n",
        "drive.mount('/content/drive')\n"
      ],
      "metadata": {
        "colab": {
          "base_uri": "https://localhost:8080/"
        },
        "id": "QpAa3F94Hc3H",
        "outputId": "8af775b0-df5f-4db9-ea53-de53da816afd"
      },
      "execution_count": 8,
      "outputs": [
        {
          "output_type": "stream",
          "name": "stdout",
          "text": [
            "Drive already mounted at /content/drive; to attempt to forcibly remount, call drive.mount(\"/content/drive\", force_remount=True).\n",
            "adult.csv\n"
          ]
        }
      ]
    },
    {
      "cell_type": "code",
      "source": [
        "#checvking dataset file path\n",
        "\n",
        "!ls \"/content/drive/My Drive/Adult_Dataset\""
      ],
      "metadata": {
        "colab": {
          "base_uri": "https://localhost:8080/"
        },
        "id": "PH-VPLBjaVy5",
        "outputId": "a44c9519-2800-4ac8-943d-1d6bb47819f3"
      },
      "execution_count": 9,
      "outputs": [
        {
          "output_type": "stream",
          "name": "stdout",
          "text": [
            "adult.csv\n"
          ]
        }
      ]
    },
    {
      "cell_type": "code",
      "source": [
        "#Loading dataset and print first five raws and all columns\n",
        "file_path = \"/content/drive/My Drive/Adult_Dataset/adult.csv\"\n",
        "\n",
        "import pandas as pd\n",
        "df = pd.read_csv(file_path)\n",
        "print(df.head())\n",
        "df.columns"
      ],
      "metadata": {
        "colab": {
          "base_uri": "https://localhost:8080/"
        },
        "id": "TsE_Vk3Ohzw2",
        "outputId": "364b453e-9ad9-4a7e-f1b8-9532f862c723"
      },
      "execution_count": 10,
      "outputs": [
        {
          "output_type": "stream",
          "name": "stdout",
          "text": [
            "   age workclass  fnlwgt     education  education.num marital.status  \\\n",
            "0   90         ?   77053       HS-grad              9        Widowed   \n",
            "1   82   Private  132870       HS-grad              9        Widowed   \n",
            "2   66         ?  186061  Some-college             10        Widowed   \n",
            "3   54   Private  140359       7th-8th              4       Divorced   \n",
            "4   41   Private  264663  Some-college             10      Separated   \n",
            "\n",
            "          occupation   relationship   race     sex  capital.gain  \\\n",
            "0                  ?  Not-in-family  White  Female             0   \n",
            "1    Exec-managerial  Not-in-family  White  Female             0   \n",
            "2                  ?      Unmarried  Black  Female             0   \n",
            "3  Machine-op-inspct      Unmarried  White  Female             0   \n",
            "4     Prof-specialty      Own-child  White  Female             0   \n",
            "\n",
            "   capital.loss  hours.per.week native.country income  \n",
            "0          4356              40  United-States  <=50K  \n",
            "1          4356              18  United-States  <=50K  \n",
            "2          4356              40  United-States  <=50K  \n",
            "3          3900              40  United-States  <=50K  \n",
            "4          3900              40  United-States  <=50K  \n"
          ]
        },
        {
          "output_type": "execute_result",
          "data": {
            "text/plain": [
              "Index(['age', 'workclass', 'fnlwgt', 'education', 'education.num',\n",
              "       'marital.status', 'occupation', 'relationship', 'race', 'sex',\n",
              "       'capital.gain', 'capital.loss', 'hours.per.week', 'native.country',\n",
              "       'income'],\n",
              "      dtype='object')"
            ]
          },
          "metadata": {},
          "execution_count": 10
        }
      ]
    },
    {
      "cell_type": "code",
      "source": [
        "# -----------------------------\n",
        "# 1. Install aif360 (for fairness metrics)\n",
        "# -----------------------------\n",
        "!pip install aif360\n",
        "\n",
        "# -----------------------------\n",
        "# 2. Import essential libraries\n",
        "# -----------------------------\n",
        "# Data handling\n",
        "import pandas as pd\n",
        "import numpy as np\n",
        "\n",
        "# Data visualization\n",
        "import matplotlib.pyplot as plt\n",
        "import seaborn as sns\n",
        "\n",
        "# Preprocessing and encoding\n",
        "from sklearn.preprocessing import LabelEncoder, OneHotEncoder, StandardScaler\n",
        "from sklearn.model_selection import train_test_split\n",
        "\n",
        "# Modeling\n",
        "from sklearn.ensemble import RandomForestClassifier\n",
        "from sklearn.metrics import accuracy_score, classification_report, confusion_matrix\n",
        "\n",
        "# Fairness & bias detection\n",
        "from aif360.datasets import StandardDataset\n",
        "from aif360.metrics import BinaryLabelDatasetMetric, ClassificationMetric\n",
        "from aif360.algorithms.preprocessing import Reweighing\n",
        "from aif360.algorithms.postprocessing import RejectOptionClassification\n",
        "\n",
        "# -----------------------------\n",
        "# 3. Settings for visualization\n",
        "# -----------------------------\n",
        "sns.set(style=\"whitegrid\")\n",
        "plt.rcParams[\"figure.figsize\"] = (10,6)\n"
      ],
      "metadata": {
        "colab": {
          "base_uri": "https://localhost:8080/"
        },
        "id": "wCrTPfNrKf2m",
        "outputId": "5e61a3e0-dab3-44bd-b792-35dfc85884d8"
      },
      "execution_count": null,
      "outputs": [
        {
          "output_type": "stream",
          "name": "stdout",
          "text": [
            "Requirement already satisfied: aif360 in /usr/local/lib/python3.12/dist-packages (0.6.1)\n",
            "Requirement already satisfied: numpy>=1.16 in /usr/local/lib/python3.12/dist-packages (from aif360) (2.0.2)\n",
            "Requirement already satisfied: scipy>=1.2.0 in /usr/local/lib/python3.12/dist-packages (from aif360) (1.16.1)\n",
            "Requirement already satisfied: pandas>=0.24.0 in /usr/local/lib/python3.12/dist-packages (from aif360) (2.2.2)\n",
            "Requirement already satisfied: scikit-learn>=1.0 in /usr/local/lib/python3.12/dist-packages (from aif360) (1.6.1)\n",
            "Requirement already satisfied: matplotlib in /usr/local/lib/python3.12/dist-packages (from aif360) (3.10.0)\n",
            "Requirement already satisfied: python-dateutil>=2.8.2 in /usr/local/lib/python3.12/dist-packages (from pandas>=0.24.0->aif360) (2.9.0.post0)\n",
            "Requirement already satisfied: pytz>=2020.1 in /usr/local/lib/python3.12/dist-packages (from pandas>=0.24.0->aif360) (2025.2)\n",
            "Requirement already satisfied: tzdata>=2022.7 in /usr/local/lib/python3.12/dist-packages (from pandas>=0.24.0->aif360) (2025.2)\n",
            "Requirement already satisfied: joblib>=1.2.0 in /usr/local/lib/python3.12/dist-packages (from scikit-learn>=1.0->aif360) (1.5.1)\n",
            "Requirement already satisfied: threadpoolctl>=3.1.0 in /usr/local/lib/python3.12/dist-packages (from scikit-learn>=1.0->aif360) (3.6.0)\n",
            "Requirement already satisfied: contourpy>=1.0.1 in /usr/local/lib/python3.12/dist-packages (from matplotlib->aif360) (1.3.3)\n",
            "Requirement already satisfied: cycler>=0.10 in /usr/local/lib/python3.12/dist-packages (from matplotlib->aif360) (0.12.1)\n",
            "Requirement already satisfied: fonttools>=4.22.0 in /usr/local/lib/python3.12/dist-packages (from matplotlib->aif360) (4.59.1)\n",
            "Requirement already satisfied: kiwisolver>=1.3.1 in /usr/local/lib/python3.12/dist-packages (from matplotlib->aif360) (1.4.9)\n",
            "Requirement already satisfied: packaging>=20.0 in /usr/local/lib/python3.12/dist-packages (from matplotlib->aif360) (25.0)\n",
            "Requirement already satisfied: pillow>=8 in /usr/local/lib/python3.12/dist-packages (from matplotlib->aif360) (11.3.0)\n",
            "Requirement already satisfied: pyparsing>=2.3.1 in /usr/local/lib/python3.12/dist-packages (from matplotlib->aif360) (3.2.3)\n",
            "Requirement already satisfied: six>=1.5 in /usr/local/lib/python3.12/dist-packages (from python-dateutil>=2.8.2->pandas>=0.24.0->aif360) (1.17.0)\n"
          ]
        }
      ]
    },
    {
      "cell_type": "markdown",
      "source": [
        "# Inspecting the dataset\n"
      ],
      "metadata": {
        "id": "jJ3rHuI6K42O"
      }
    },
    {
      "cell_type": "code",
      "source": [
        "# 1. Load the dataset\n",
        "df = pd.read_csv(\"/content/adult.csv\")  # replace with your actual file path\n",
        "print(\"=== Dataset Info ===\")\n",
        "print(df.info())\n",
        "print(\"\\n=== Dataset Shape ===\")\n",
        "print(df.shape)\n",
        "print(\"\\n=== First 5 rows ===\")\n",
        "print(df.head())\n",
        "\n",
        "# 2. Check for missing values\n",
        "print(\"\\n=== Missing Values Per Column ===\")\n",
        "print(df.isnull().sum())\n",
        "\n",
        "# 3. Check for duplicates\n",
        "print(\"\\n=== Number of Duplicate Rows ===\")\n",
        "print(df.duplicated().sum())\n",
        "\n",
        "# 4. Check basic statistics for numeric columns\n",
        "print(\"\\n=== Descriptive Statistics ===\")\n",
        "print(df.describe())\n"
      ],
      "metadata": {
        "colab": {
          "base_uri": "https://localhost:8080/"
        },
        "id": "-p5-g6_UKsOE",
        "outputId": "7ccc2f1d-0f33-465e-a491-3836c4d37b4a"
      },
      "execution_count": null,
      "outputs": [
        {
          "output_type": "stream",
          "name": "stdout",
          "text": [
            "=== Dataset Info ===\n",
            "<class 'pandas.core.frame.DataFrame'>\n",
            "RangeIndex: 32561 entries, 0 to 32560\n",
            "Data columns (total 15 columns):\n",
            " #   Column          Non-Null Count  Dtype \n",
            "---  ------          --------------  ----- \n",
            " 0   age             32561 non-null  int64 \n",
            " 1   workclass       32561 non-null  object\n",
            " 2   fnlwgt          32561 non-null  int64 \n",
            " 3   education       32561 non-null  object\n",
            " 4   education.num   32561 non-null  int64 \n",
            " 5   marital.status  32561 non-null  object\n",
            " 6   occupation      32561 non-null  object\n",
            " 7   relationship    32561 non-null  object\n",
            " 8   race            32561 non-null  object\n",
            " 9   sex             32561 non-null  object\n",
            " 10  capital.gain    32561 non-null  int64 \n",
            " 11  capital.loss    32561 non-null  int64 \n",
            " 12  hours.per.week  32561 non-null  int64 \n",
            " 13  native.country  32561 non-null  object\n",
            " 14  income          32561 non-null  object\n",
            "dtypes: int64(6), object(9)\n",
            "memory usage: 3.7+ MB\n",
            "None\n",
            "\n",
            "=== Dataset Shape ===\n",
            "(32561, 15)\n",
            "\n",
            "=== First 5 rows ===\n",
            "   age workclass  fnlwgt     education  education.num marital.status  \\\n",
            "0   90         ?   77053       HS-grad              9        Widowed   \n",
            "1   82   Private  132870       HS-grad              9        Widowed   \n",
            "2   66         ?  186061  Some-college             10        Widowed   \n",
            "3   54   Private  140359       7th-8th              4       Divorced   \n",
            "4   41   Private  264663  Some-college             10      Separated   \n",
            "\n",
            "          occupation   relationship   race     sex  capital.gain  \\\n",
            "0                  ?  Not-in-family  White  Female             0   \n",
            "1    Exec-managerial  Not-in-family  White  Female             0   \n",
            "2                  ?      Unmarried  Black  Female             0   \n",
            "3  Machine-op-inspct      Unmarried  White  Female             0   \n",
            "4     Prof-specialty      Own-child  White  Female             0   \n",
            "\n",
            "   capital.loss  hours.per.week native.country income  \n",
            "0          4356              40  United-States  <=50K  \n",
            "1          4356              18  United-States  <=50K  \n",
            "2          4356              40  United-States  <=50K  \n",
            "3          3900              40  United-States  <=50K  \n",
            "4          3900              40  United-States  <=50K  \n",
            "\n",
            "=== Missing Values Per Column ===\n",
            "age               0\n",
            "workclass         0\n",
            "fnlwgt            0\n",
            "education         0\n",
            "education.num     0\n",
            "marital.status    0\n",
            "occupation        0\n",
            "relationship      0\n",
            "race              0\n",
            "sex               0\n",
            "capital.gain      0\n",
            "capital.loss      0\n",
            "hours.per.week    0\n",
            "native.country    0\n",
            "income            0\n",
            "dtype: int64\n",
            "\n",
            "=== Number of Duplicate Rows ===\n",
            "24\n",
            "\n",
            "=== Descriptive Statistics ===\n",
            "                age        fnlwgt  education.num  capital.gain  capital.loss  \\\n",
            "count  32561.000000  3.256100e+04   32561.000000  32561.000000  32561.000000   \n",
            "mean      38.581647  1.897784e+05      10.080679   1077.648844     87.303830   \n",
            "std       13.640433  1.055500e+05       2.572720   7385.292085    402.960219   \n",
            "min       17.000000  1.228500e+04       1.000000      0.000000      0.000000   \n",
            "25%       28.000000  1.178270e+05       9.000000      0.000000      0.000000   \n",
            "50%       37.000000  1.783560e+05      10.000000      0.000000      0.000000   \n",
            "75%       48.000000  2.370510e+05      12.000000      0.000000      0.000000   \n",
            "max       90.000000  1.484705e+06      16.000000  99999.000000   4356.000000   \n",
            "\n",
            "       hours.per.week  \n",
            "count    32561.000000  \n",
            "mean        40.437456  \n",
            "std         12.347429  \n",
            "min          1.000000  \n",
            "25%         40.000000  \n",
            "50%         40.000000  \n",
            "75%         45.000000  \n",
            "max         99.000000  \n"
          ]
        }
      ]
    },
    {
      "cell_type": "markdown",
      "source": [
        "\n",
        "\n",
        "### **Observations**\n",
        "\n",
        "1. **Basic Structure**\n",
        "\n",
        "   * 32,561 entries and 15 columns.\n",
        "   * Mix of **numerical** (age, fnlwgt, education.num, capital.gain, capital.loss, hours.per.week) and **categorical** (workclass, education, marital.status, occupation, relationship, race, sex, native.country, income) features.\n",
        "\n",
        "2. **Missing Values**\n",
        "\n",
        "   * No missing values appear after cleaning/inspecting.\n",
        "   * Columns like `occupation` and `workclass` had `?` entries initially, which should ideally be treated as missing if present.\n",
        "\n",
        "3. **Duplicates**\n",
        "\n",
        "   * There are **24 duplicate rows**, which could be dropped before modeling.\n",
        "\n",
        "4. **Numerical Features**\n",
        "\n",
        "   * **Age:** 17–90 years, mean \\~38.6, fairly wide range.\n",
        "   * **Education.num:** 1–16, mean \\~10, aligns with schooling levels.\n",
        "   * **Capital gain/loss:** Highly skewed. Most people have `0` capital gains, but max gain is extremely high (`99999`). Same for losses, max `4356`. This indicates outliers.\n",
        "   * **Hours per week:** 1–99 hours, mean \\~40, fairly normal.\n",
        "\n",
        "5. **Categorical Features**\n",
        "\n",
        "   * `sex`, `race`, `relationship`, `education`, `marital.status`, `occupation`, `workclass`, `native.country` – all will need encoding for modeling.\n",
        "   * Some entries have placeholder `?`, indicating unknown values.\n",
        "\n",
        "6. **Target Variable**\n",
        "\n",
        "   * `income` (<=50K / >50K) – binary classification target for prediction.\n",
        "\n",
        "---\n",
        "\n",
        "### **Immediate Data Issues / Considerations**\n",
        "\n",
        "* **Duplicates:** 24 rows – can drop to avoid bias.\n",
        "* **Outliers:** Capital gains/losses are extremely skewed – consider capping or using robust scaling.\n",
        "* **Unknown categories (`?`):** Handle as missing.\n",
        "* **Encoding needed:** All categorical variables must be encoded, especially `sex` and `race` for fairness analysis.\n",
        "\n",
        "\n"
      ],
      "metadata": {
        "id": "JJIrZ5S3Lf5V"
      }
    },
    {
      "cell_type": "markdown",
      "source": [
        "**Step 1: Drop duplicates**\n",
        "\n",
        "Why: Duplicates can bias model training and affect metrics.\n",
        "\n",
        "Action: Remove all exact duplicates."
      ],
      "metadata": {
        "id": "gW2-E2kLLxvd"
      }
    },
    {
      "cell_type": "code",
      "source": [
        "df = df.drop_duplicates()\n"
      ],
      "metadata": {
        "id": "6_Qe7Ss8K99F"
      },
      "execution_count": null,
      "outputs": []
    },
    {
      "cell_type": "markdown",
      "source": [
        "**Step 2: Handle unknown / placeholder values (?)**\n",
        "\n",
        "Why: Columns like workclass, occupation, and native.country have entries like ? which are essentially missing values. Models cannot handle them.\n",
        "\n",
        "Action: Replace ? with np.nan and then decide on strategy:\n",
        "\n",
        "Option 1: Drop rows with missing values (if small proportion).\n",
        "\n",
        "Option 2: Impute (fill with mode or “Unknown”)."
      ],
      "metadata": {
        "id": "dCx03gvPL8UF"
      }
    },
    {
      "cell_type": "code",
      "source": [
        "df.replace('?', np.nan, inplace=True)\n",
        "\n",
        "# Check how many missing values per column\n",
        "print(df.isnull().sum())\n"
      ],
      "metadata": {
        "colab": {
          "base_uri": "https://localhost:8080/"
        },
        "id": "DIdw2lEkL26F",
        "outputId": "be636bfd-8305-44dd-ef30-7d8c73a7be1c"
      },
      "execution_count": null,
      "outputs": [
        {
          "output_type": "stream",
          "name": "stdout",
          "text": [
            "age                  0\n",
            "workclass         1836\n",
            "fnlwgt               0\n",
            "education            0\n",
            "education.num        0\n",
            "marital.status       0\n",
            "occupation        1843\n",
            "relationship         0\n",
            "race                 0\n",
            "sex                  0\n",
            "capital.gain         0\n",
            "capital.loss         0\n",
            "hours.per.week       0\n",
            "native.country     582\n",
            "income               0\n",
            "dtype: int64\n"
          ]
        }
      ]
    },
    {
      "cell_type": "markdown",
      "source": [
        "**We have missing values in workclass (1,836), occupation (1,843), and native.country (582). All other columns have no missing values. These missing values are currently represented by ? in the dataset.**\n",
        "\n",
        "**Next steps:**\n",
        "\n",
        "- Replace ? with NaN for the affected columns.\n",
        "\n",
        "- Decide how to handle these missing values — either drop the rows with missing values if they are a small proportion, or impute them using the most frequent value (mode) for each categorical column.\n",
        "\n",
        "- After handling missing values, encode categorical variables including the target (income) and protected attributes (sex and race) for modeling."
      ],
      "metadata": {
        "id": "BXeFZlQGMS-V"
      }
    },
    {
      "cell_type": "code",
      "source": [
        "\n",
        "\n",
        "# Step 1: Replace '?' with NaN\n",
        "df.replace('?', np.nan, inplace=True)\n",
        "\n",
        "# Step 2: Check missing values after replacement\n",
        "print(\"Missing values per column after replacement:\")\n",
        "print(df.isnull().sum())\n",
        "\n",
        "# Step 3: Handle missing values\n",
        "# Since missing values are small, we will fill categorical columns with mode\n",
        "categorical_cols = ['workclass', 'occupation', 'native.country']\n",
        "for col in categorical_cols:\n",
        "    df[col].fillna(df[col].mode()[0], inplace=True)\n",
        "\n",
        "# Step 4: Verify no missing values remain\n",
        "print(\"\\nMissing values after imputation:\")\n",
        "print(df.isnull().sum())\n",
        "\n",
        "# Step 5: Encode target variable (income) as binary\n",
        "df['income'] = df['income'].apply(lambda x: 1 if x == '>50K' else 0)\n",
        "\n",
        "# Step 6: Encode protected attributes (sex, race) for fairness analysis\n",
        "df['sex'] = df['sex'].apply(lambda x: 1 if x.strip().lower() == 'male' else 0)\n",
        "df['race'] = df['race'].apply(lambda x: 1 if x.strip().lower() == 'white' else 0)\n",
        "\n",
        "# Step 7: Confirm the cleaned dataset\n",
        "print(\"\\nDataset info after cleaning:\")\n",
        "print(df.info())\n",
        "print(\"\\nFirst 5 rows after cleaning:\")\n",
        "print(df.head())\n"
      ],
      "metadata": {
        "colab": {
          "base_uri": "https://localhost:8080/"
        },
        "id": "9hlKAAvhMErE",
        "outputId": "9e1ca73d-5c24-4946-b4c8-07ba34111961"
      },
      "execution_count": null,
      "outputs": [
        {
          "output_type": "stream",
          "name": "stdout",
          "text": [
            "Missing values per column after replacement:\n",
            "age                  0\n",
            "workclass         1836\n",
            "fnlwgt               0\n",
            "education            0\n",
            "education.num        0\n",
            "marital.status       0\n",
            "occupation        1843\n",
            "relationship         0\n",
            "race                 0\n",
            "sex                  0\n",
            "capital.gain         0\n",
            "capital.loss         0\n",
            "hours.per.week       0\n",
            "native.country     582\n",
            "income               0\n",
            "dtype: int64\n",
            "\n",
            "Missing values after imputation:\n",
            "age               0\n",
            "workclass         0\n",
            "fnlwgt            0\n",
            "education         0\n",
            "education.num     0\n",
            "marital.status    0\n",
            "occupation        0\n",
            "relationship      0\n",
            "race              0\n",
            "sex               0\n",
            "capital.gain      0\n",
            "capital.loss      0\n",
            "hours.per.week    0\n",
            "native.country    0\n",
            "income            0\n",
            "dtype: int64\n",
            "\n",
            "Dataset info after cleaning:\n",
            "<class 'pandas.core.frame.DataFrame'>\n",
            "Index: 32537 entries, 0 to 32560\n",
            "Data columns (total 15 columns):\n",
            " #   Column          Non-Null Count  Dtype \n",
            "---  ------          --------------  ----- \n",
            " 0   age             32537 non-null  int64 \n",
            " 1   workclass       32537 non-null  object\n",
            " 2   fnlwgt          32537 non-null  int64 \n",
            " 3   education       32537 non-null  object\n",
            " 4   education.num   32537 non-null  int64 \n",
            " 5   marital.status  32537 non-null  object\n",
            " 6   occupation      32537 non-null  object\n",
            " 7   relationship    32537 non-null  object\n",
            " 8   race            32537 non-null  int64 \n",
            " 9   sex             32537 non-null  int64 \n",
            " 10  capital.gain    32537 non-null  int64 \n",
            " 11  capital.loss    32537 non-null  int64 \n",
            " 12  hours.per.week  32537 non-null  int64 \n",
            " 13  native.country  32537 non-null  object\n",
            " 14  income          32537 non-null  int64 \n",
            "dtypes: int64(9), object(6)\n",
            "memory usage: 4.0+ MB\n",
            "None\n",
            "\n",
            "First 5 rows after cleaning:\n",
            "   age workclass  fnlwgt     education  education.num marital.status  \\\n",
            "0   90   Private   77053       HS-grad              9        Widowed   \n",
            "1   82   Private  132870       HS-grad              9        Widowed   \n",
            "2   66   Private  186061  Some-college             10        Widowed   \n",
            "3   54   Private  140359       7th-8th              4       Divorced   \n",
            "4   41   Private  264663  Some-college             10      Separated   \n",
            "\n",
            "          occupation   relationship  race  sex  capital.gain  capital.loss  \\\n",
            "0     Prof-specialty  Not-in-family     1    0             0          4356   \n",
            "1    Exec-managerial  Not-in-family     1    0             0          4356   \n",
            "2     Prof-specialty      Unmarried     0    0             0          4356   \n",
            "3  Machine-op-inspct      Unmarried     1    0             0          3900   \n",
            "4     Prof-specialty      Own-child     1    0             0          3900   \n",
            "\n",
            "   hours.per.week native.country  income  \n",
            "0              40  United-States       0  \n",
            "1              18  United-States       0  \n",
            "2              40  United-States       0  \n",
            "3              40  United-States       0  \n",
            "4              40  United-States       0  \n"
          ]
        },
        {
          "output_type": "stream",
          "name": "stderr",
          "text": [
            "/tmp/ipython-input-3039469583.py:12: FutureWarning: A value is trying to be set on a copy of a DataFrame or Series through chained assignment using an inplace method.\n",
            "The behavior will change in pandas 3.0. This inplace method will never work because the intermediate object on which we are setting values always behaves as a copy.\n",
            "\n",
            "For example, when doing 'df[col].method(value, inplace=True)', try using 'df.method({col: value}, inplace=True)' or df[col] = df[col].method(value) instead, to perform the operation inplace on the original object.\n",
            "\n",
            "\n",
            "  df[col].fillna(df[col].mode()[0], inplace=True)\n"
          ]
        }
      ]
    },
    {
      "cell_type": "markdown",
      "source": [
        "**Observations from the cleaning step:**\n",
        "\n",
        "1. All missing values (?) in workclass, occupation, and native.country have been replaced with the mode of each column.\n",
        "\n",
        "2. The target variable income is now encoded as binary: >50K = 1, <=50K = 0.\n",
        "\n",
        "3. Protected attributes are encoded:\n",
        "\n",
        "- sex: Male = 1, Female = 0\n",
        "\n",
        "- race: White = 1, Non-white = 0\n",
        "\n",
        "4. There are still 6 object-type columns (workclass, education, marital.status, occupation, relationship, native.country) which can be encoded later for modeling.\n",
        "\n",
        "5. Numeric columns are ready for modeling (age, fnlwgt, education.num, capital.gain, capital.loss, hours.per.week).\n",
        "\n",
        "6. No missing values remain. There were 24 duplicate rows in the original data; you can drop them to avoid bias in training.\n",
        "\n",
        "Next steps:\n",
        "\n",
        "Drop duplicates to ensure clean modeling:"
      ],
      "metadata": {
        "id": "j2k223ejNM0F"
      }
    },
    {
      "cell_type": "markdown",
      "source": [
        "**Dropping duplicates**"
      ],
      "metadata": {
        "id": "eQY2oTM7Nls8"
      }
    },
    {
      "cell_type": "code",
      "source": [
        "df.drop_duplicates(inplace=True)\n"
      ],
      "metadata": {
        "id": "5rgjoNXlM4gE"
      },
      "execution_count": null,
      "outputs": []
    },
    {
      "cell_type": "markdown",
      "source": [
        "#Exploratory Data Analysis(EDA)"
      ],
      "metadata": {
        "id": "fhiP_XAsP3iU"
      }
    },
    {
      "cell_type": "markdown",
      "source": [
        "**Now We'll print outputs before visualizations, focus on bias patterns, and avoid applying any mitigation yet.**"
      ],
      "metadata": {
        "id": "Zxj1IVsvOLwM"
      }
    },
    {
      "cell_type": "markdown",
      "source": [
        "**Step 1: Check Target Variable Distribution**\n",
        "\n",
        "**We first need to see if the target variable (income) is imbalanced, and how it differs across protected attributes (sex and race).**"
      ],
      "metadata": {
        "id": "4eihoG7WOff8"
      }
    },
    {
      "cell_type": "code",
      "source": [
        "# Count of each income class\n",
        "print(\"Income Distribution:\")\n",
        "print(df['income'].value_counts())\n",
        "print(\"\\nIncome Distribution by Sex:\")\n",
        "print(df.groupby('sex')['income'].value_counts())\n",
        "print(\"\\nIncome Distribution by Race:\")\n",
        "print(df.groupby('race')['income'].value_counts())\n"
      ],
      "metadata": {
        "colab": {
          "base_uri": "https://localhost:8080/"
        },
        "id": "oHxHm-pjNoxE",
        "outputId": "8a43f2c4-6725-45a9-d538-6adb3c59e867"
      },
      "execution_count": null,
      "outputs": [
        {
          "output_type": "stream",
          "name": "stdout",
          "text": [
            "Income Distribution:\n",
            "income\n",
            "0    24698\n",
            "1     7839\n",
            "Name: count, dtype: int64\n",
            "\n",
            "Income Distribution by Sex:\n",
            "sex  income\n",
            "0    0          9583\n",
            "     1          1179\n",
            "1    0         15115\n",
            "     1          6660\n",
            "Name: count, dtype: int64\n",
            "\n",
            "Income Distribution by Race:\n",
            "race  income\n",
            "0     0          4018\n",
            "      1           724\n",
            "1     0         20680\n",
            "      1          7115\n",
            "Name: count, dtype: int64\n"
          ]
        }
      ]
    },
    {
      "cell_type": "markdown",
      "source": [
        "**Step 1 Observations – Income Distribution**\n",
        "\n",
        "**Overall Distribution:**\n",
        "\n",
        "- 24,698 individuals earn <=50K (class 0).\n",
        "\n",
        "- 7,839 individuals earn >50K (class 1).\n",
        "\n",
        "- The dataset is imbalanced: more than 3× as many low-income individuals as high-income.\n",
        "\n",
        "**By Sex (0 = Female, 1 = Male):**\n",
        "\n",
        "- Females: 9,583 low-income vs 1,179 high-income → most females earn <=50K.\n",
        "\n",
        "- Males: 15,115 low-income vs 6,660 high-income → higher proportion of males earn >50K.\n",
        "\n",
        "- Bias pattern observed: males are more likely to earn higher income than females. This is a protected-attribute disparity.\n",
        "\n",
        "**By Race (0 = Non-white, 1 = White):**\n",
        "\n",
        "- Non-white: 4,018 low-income vs 724 high-income.\n",
        "\n",
        "- White: 20,680 low-income vs 7,115 high-income.\n",
        "\n",
        "- Whites have a higher number of high-income earners proportionally.\n",
        "\n",
        "**Bias pattern observed:** race is associated with income outcome differences.\n",
        "\n",
        "**✅ Conclusion for EDA Step 1:**\n",
        "\n",
        "- The target variable is imbalanced.\n",
        "\n",
        "- Sex and race show clear disparities in income outcomes → these are bias patterns.\n",
        "\n",
        "- No mitigation applied yet; this is just for exploration."
      ],
      "metadata": {
        "id": "IgZeu_iLPCU8"
      }
    },
    {
      "cell_type": "markdown",
      "source": [
        "**Overall Income Distribution**\n"
      ],
      "metadata": {
        "id": "AC9iTUxxP-10"
      }
    },
    {
      "cell_type": "code",
      "source": [
        "import matplotlib.pyplot as plt\n",
        "import seaborn as sns\n",
        "\n",
        "plt.figure(figsize=(6,4))\n",
        "sns.countplot(x='income', data=df)\n",
        "plt.title('Overall Income Distribution')\n",
        "plt.xlabel('Income Class (0 = <=50K, 1 = >50K)')\n",
        "plt.ylabel('Count')\n",
        "plt.show()\n"
      ],
      "metadata": {
        "colab": {
          "base_uri": "https://localhost:8080/",
          "height": 419
        },
        "id": "uMUTq2GeOuq0",
        "outputId": "12baf70e-e2e8-4826-fb2e-83c99ecb30ae"
      },
      "execution_count": null,
      "outputs": [
        {
          "output_type": "display_data",
          "data": {
            "text/plain": [
              "<Figure size 600x400 with 1 Axes>"
            ],
            "image/png": "[encoded data removed]"
          },
          "metadata": {}
        }
      ]
    },
    {
      "cell_type": "markdown",
      "source": [
        "**What we observe:**\n",
        "\n",
        "- 0 = <=50K → Most individuals in the dataset earn $50K or less.\n",
        "\n",
        "- 1 = >50K → Fewer individuals earn more than $50K.\n",
        "\n",
        "**Implications for modeling:**\n",
        "\n",
        "1. Baseline imbalance: A naive model could just predict everyone as 0 (<=50K) and still get high accuracy, which is misleading.\n",
        "\n",
        "2. Bias considerations: Since our protected attributes are sex and race, we need to check if the imbalance affects these groups differently. For example:\n",
        "\n",
        "- Are men more likely than women to be in the >50K category?\n",
        "\n",
        "- Are White individuals more likely than Non-White individuals to be in the >50K category?"
      ],
      "metadata": {
        "id": "gJnjgWPSQYSL"
      }
    },
    {
      "cell_type": "markdown",
      "source": [
        "**Income Distribution by Sex**"
      ],
      "metadata": {
        "id": "L0SLoasTQxdc"
      }
    },
    {
      "cell_type": "code",
      "source": [
        "# Grouped counts of income by race\n",
        "income_by_race = df.groupby(['race', 'income']).size()\n",
        "print(\"Income Distribution by Race:\")\n",
        "print(income_by_race)\n"
      ],
      "metadata": {
        "colab": {
          "base_uri": "https://localhost:8080/"
        },
        "id": "NmQgnicXRTGk",
        "outputId": "cf1aae11-26f2-452b-ccd2-7fe526987127"
      },
      "execution_count": null,
      "outputs": [
        {
          "output_type": "stream",
          "name": "stdout",
          "text": [
            "Income Distribution by Race:\n",
            "race  income\n",
            "0     0          4018\n",
            "      1           724\n",
            "1     0         20680\n",
            "      1          7115\n",
            "dtype: int64\n"
          ]
        }
      ]
    },
    {
      "cell_type": "code",
      "source": [
        "plt.figure(figsize=(6,4))\n",
        "sns.countplot(x='income', hue='sex', data=df)\n",
        "plt.title('Income Distribution by Sex')\n",
        "plt.xlabel('Income Class (0 = <=50K, 1 = >50K)')\n",
        "plt.ylabel('Count')\n",
        "plt.legend(title='Sex', labels=['Female', 'Male'])\n",
        "plt.show()\n"
      ],
      "metadata": {
        "colab": {
          "base_uri": "https://localhost:8080/",
          "height": 419
        },
        "id": "4Vp6kTmnQCv0",
        "outputId": "11bc6f46-d06e-4dfd-bc59-099cbb5ba2e3"
      },
      "execution_count": null,
      "outputs": [
        {
          "output_type": "display_data",
          "data": {
            "text/plain": [
              "<Figure size 600x400 with 1 Axes>"
            ],
            "image/png": "[encoded data removed]"
          },
          "metadata": {}
        }
      ]
    },
    {
      "cell_type": "markdown",
      "source": [
        "**Observation:**\n",
        "\n",
        "- For race 0: 4018 earn <=50K, 724 earn >50K.\n",
        "\n",
        "- For race 1: 20,680 earn <=50K, 7115 earn >50K.\n",
        "\n",
        "- In both races, the number of people earning <=50K is higher than those earning >50K.\n",
        "\n",
        "**Insights:**\n",
        "\n",
        "A. Income Skewed Towards Lower Class: Across both races, the majority earn <=50K. This indicates that the dataset is imbalanced regarding income classes.\n",
        "\n",
        "B. Disparity Between Races:\n",
        "\n",
        "- Race 0 has a much smaller population overall (4018 + 724 = 4742) compared to race 1 (20,680 + 7115 = 27,795).\n",
        "\n",
        "- Proportionally, for race 0, only about 15% earn >50K (724/4742), whereas for race 1, about 25% earn >50K (7115/27795). This suggests a potential disparity in income distribution across races.\n",
        "\n",
        "**Potential Bias Pattern:** Race appears to influence the likelihood of higher income. Individuals in race 1 are relatively more likely to earn >50K compared to race 0. This is an important signal for fairness evaluation in later modeling steps."
      ],
      "metadata": {
        "id": "Zy82hdxxTX7C"
      }
    },
    {
      "cell_type": "markdown",
      "source": [
        "**Income Distribution by Race**"
      ],
      "metadata": {
        "id": "Y6NXXzvqUSmi"
      }
    },
    {
      "cell_type": "code",
      "source": [
        "# Print raw counts before plotting\n",
        "print(\"Income Distribution by Race:\")\n",
        "print(df.groupby(['race', 'income']).size())\n",
        "\n",
        "# Visualization\n",
        "import matplotlib.pyplot as plt\n",
        "import seaborn as sns\n",
        "\n",
        "plt.figure(figsize=(6,4))\n",
        "sns.countplot(x='income', hue='race', data=df)\n",
        "plt.title('Income Distribution by Race')\n",
        "plt.xlabel('Income Class (0 = <=50K, 1 = >50K)')\n",
        "plt.ylabel('Count')\n",
        "plt.legend(title='Race', labels=['Non-White', 'White'])\n",
        "plt.show()\n"
      ],
      "metadata": {
        "colab": {
          "base_uri": "https://localhost:8080/",
          "height": 541
        },
        "id": "UbXQkVRtUanC",
        "outputId": "f3e45b1f-68c9-47b8-c394-ee9daf400667"
      },
      "execution_count": null,
      "outputs": [
        {
          "output_type": "stream",
          "name": "stdout",
          "text": [
            "Income Distribution by Race:\n",
            "race  income\n",
            "0     0          4018\n",
            "      1           724\n",
            "1     0         20680\n",
            "      1          7115\n",
            "dtype: int64\n"
          ]
        },
        {
          "output_type": "display_data",
          "data": {
            "text/plain": [
              "<Figure size 600x400 with 1 Axes>"
            ],
            "image/png": "[encoded data removed]"
          },
          "metadata": {}
        }
      ]
    },
    {
      "cell_type": "markdown",
      "source": [
        "\n",
        "\n",
        "### 🔎 Observations from the counts\n",
        "\n",
        "* **Race 0 (Non-White group)**:\n",
        "\n",
        "  * 4,018 individuals earn ≤50K.\n",
        "  * Only 724 individuals earn >50K.\n",
        "  * That’s a **very small proportion (\\~15%)** in the higher income group.\n",
        "\n",
        "* **Race 1 (White group)**:\n",
        "\n",
        "  * 20,680 individuals earn ≤50K.\n",
        "  * 7,115 individuals earn >50K.\n",
        "  * That’s about **25% in the higher income group**, which is noticeably larger than the Non-White group.\n",
        "\n",
        "---\n",
        "\n",
        "### 📊 Deduction\n",
        "\n",
        "* Both groups have more people earning ≤50K, but **the imbalance is stronger for the Non-White group**.\n",
        "* This suggests **racial disparity in income distribution**. White individuals have **higher representation** in the >50K income category.\n",
        "* From a **bias/fairness** perspective, this is important: if we build a model to predict income, it might **unintentionally favor the majority group (White)** unless we handle bias carefully.\n",
        "\n"
      ],
      "metadata": {
        "id": "-0NIFK7zU2Fa"
      }
    },
    {
      "cell_type": "markdown",
      "source": [
        "**Age Distribution by Income**"
      ],
      "metadata": {
        "id": "2NT-ANnzVpl6"
      }
    },
    {
      "cell_type": "code",
      "source": [
        "# Income distribution by Age (text output first)\n",
        "print(\"Age vs Income distribution (summary):\")\n",
        "print(df.groupby(\"income\")[\"age\"].describe())\n",
        "\n",
        "# Visualization\n",
        "plt.figure(figsize=(6,4))\n",
        "sns.histplot(data=df, x=\"age\", hue=\"income\", multiple=\"stack\", bins=30)\n",
        "plt.title(\"Age Distribution by Income\")\n",
        "plt.xlabel(\"Age\")\n",
        "plt.ylabel(\"Count\")\n",
        "plt.show()\n"
      ],
      "metadata": {
        "colab": {
          "base_uri": "https://localhost:8080/",
          "height": 506
        },
        "id": "LBrbUn8fVwFS",
        "outputId": "d0e84eb4-46ca-44ae-edf3-577bbbe98fca"
      },
      "execution_count": null,
      "outputs": [
        {
          "output_type": "stream",
          "name": "stdout",
          "text": [
            "Age vs Income distribution (summary):\n",
            "          count       mean        std   min   25%   50%   75%   max\n",
            "income                                                             \n",
            "0       24698.0  36.787392  14.017335  17.0  25.0  34.0  46.0  90.0\n",
            "1        7839.0  44.250925  10.520102  19.0  36.0  44.0  51.0  90.0\n"
          ]
        },
        {
          "output_type": "display_data",
          "data": {
            "text/plain": [
              "<Figure size 600x400 with 1 Axes>"
            ],
            "image/png": "[encoded data removed]"
          },
          "metadata": {}
        }
      ]
    },
    {
      "cell_type": "markdown",
      "source": [
        "**🔎 Age vs Income Distribution (Interpretation)**\n",
        "\n",
        "**1. Count**\n",
        "\n",
        "- Low income (≤50K) group has 24,698 people.\n",
        "\n",
        "- High income (>50K) group has 7,839 people.\n",
        "\n",
        "- This shows the dataset is imbalanced, with far fewer high-income individuals.\n",
        "\n",
        "**2. Mean (average age)**\n",
        "\n",
        "- Low income: ~36.8 years.\n",
        "\n",
        "- High income: ~44.3 years.\n",
        "\n",
        "- ⇒ On average, high-income earners are older.\n",
        "\n",
        "**3. Median (50%)**\n",
        "\n",
        "- Low income: 34 years.\n",
        "\n",
        "- High income: 44 years.\n",
        "\n",
        "- ⇒ Median age difference confirms that age plays a role in income level.\n",
        "\n",
        "**4. Spread (Std & Quartiles)**\n",
        "\n",
        "- Low income has a wider spread (std ~14), covering many younger individuals.\n",
        "\n",
        "- High income group is more concentrated (std ~10.5), mostly in the 36–51 age range.\n",
        "\n",
        "**5. Max**\n",
        "\n",
        "Both groups go up to 90 years old, but most high earners are concentrated in mid to late career ages.\n",
        "\n",
        "**✅ What we have deduced from the above visual:**\n",
        "\n",
        "- Younger individuals (<35 years) are more likely to fall into the low-income group.\n",
        "\n",
        "- Higher income tends to come later in life, likely due to experience, education, and career growth.\n",
        "\n",
        "- Age is a strong predictor of income class in this dataset."
      ],
      "metadata": {
        "id": "HIr-xYOBWIfK"
      }
    },
    {
      "cell_type": "markdown",
      "source": [
        "# Now we delve into building our model, we first check if our data is ready for modelling even though we prepared it.\n"
      ],
      "metadata": {
        "id": "eiU_Y_gNYctx"
      }
    },
    {
      "cell_type": "code",
      "source": [
        "# Inspect columns and types\n",
        "print(\"=== Dataset Columns ===\")\n",
        "print(df.columns)\n",
        "\n",
        "print(\"\\n=== Column Data Types ===\")\n",
        "print(df.dtypes)\n",
        "\n",
        "# Check for missing values\n",
        "print(\"\\n=== Missing Values Per Column ===\")\n",
        "print(df.isnull().sum())\n",
        "\n",
        "# Check unique values per column (useful for categoricals)\n",
        "print(\"\\n=== Unique Values Per Column ===\")\n",
        "for col in df.columns:\n",
        "    print(f\"{col}: {df[col].nunique()}\")\n"
      ],
      "metadata": {
        "colab": {
          "base_uri": "https://localhost:8080/"
        },
        "id": "9gXwjeugV-1B",
        "outputId": "b22ab36a-c104-460c-c438-49b280dbae2f"
      },
      "execution_count": null,
      "outputs": [
        {
          "output_type": "stream",
          "name": "stdout",
          "text": [
            "=== Dataset Columns ===\n",
            "Index(['age', 'workclass', 'fnlwgt', 'education', 'education.num',\n",
            "       'marital.status', 'occupation', 'relationship', 'race', 'sex',\n",
            "       'capital.gain', 'capital.loss', 'hours.per.week', 'native.country',\n",
            "       'income'],\n",
            "      dtype='object')\n",
            "\n",
            "=== Column Data Types ===\n",
            "age                int64\n",
            "workclass         object\n",
            "fnlwgt             int64\n",
            "education         object\n",
            "education.num      int64\n",
            "marital.status    object\n",
            "occupation        object\n",
            "relationship      object\n",
            "race               int64\n",
            "sex                int64\n",
            "capital.gain       int64\n",
            "capital.loss       int64\n",
            "hours.per.week     int64\n",
            "native.country    object\n",
            "income             int64\n",
            "dtype: object\n",
            "\n",
            "=== Missing Values Per Column ===\n",
            "age               0\n",
            "workclass         0\n",
            "fnlwgt            0\n",
            "education         0\n",
            "education.num     0\n",
            "marital.status    0\n",
            "occupation        0\n",
            "relationship      0\n",
            "race              0\n",
            "sex               0\n",
            "capital.gain      0\n",
            "capital.loss      0\n",
            "hours.per.week    0\n",
            "native.country    0\n",
            "income            0\n",
            "dtype: int64\n",
            "\n",
            "=== Unique Values Per Column ===\n",
            "age: 73\n",
            "workclass: 8\n",
            "fnlwgt: 21648\n",
            "education: 16\n",
            "education.num: 16\n",
            "marital.status: 7\n",
            "occupation: 14\n",
            "relationship: 6\n",
            "race: 2\n",
            "sex: 2\n",
            "capital.gain: 119\n",
            "capital.loss: 92\n",
            "hours.per.week: 94\n",
            "native.country: 41\n",
            "income: 2\n"
          ]
        }
      ]
    },
    {
      "cell_type": "markdown",
      "source": [
        "**Our Data is perfectly clean, now we can use the Random Forest model for modelling**. **The code below has all steps splitting, training, etc**\n",
        "\n",
        "**What this does:**\n",
        "\n",
        "- Encodes categorical features.\n",
        "\n",
        "- Splits dataset into train and test.\n",
        "\n",
        "- Trains a Random Forest classifier.\n",
        "\n",
        "- Evaluates performance.\n",
        "\n",
        "- Prints predicted income distributions across sex and race to detect bias patterns before mitigation."
      ],
      "metadata": {
        "id": "Zm6w3b-ZZdXR"
      }
    },
    {
      "cell_type": "code",
      "source": [
        "from sklearn.preprocessing import OneHotEncoder\n",
        "from sklearn.compose import ColumnTransformer\n",
        "from sklearn.pipeline import Pipeline\n",
        "from sklearn.ensemble import RandomForestClassifier\n",
        "\n",
        "# Preprocessing pipeline with unknown categories handled\n",
        "preprocessor = ColumnTransformer(\n",
        "    transformers=[\n",
        "        ('cat', OneHotEncoder(drop='first', handle_unknown='ignore'), categorical_features)\n",
        "    ],\n",
        "    remainder='passthrough'\n",
        ")\n",
        "\n",
        "# Random Forest pipeline\n",
        "model = Pipeline([\n",
        "    ('preprocessor', preprocessor),\n",
        "    ('classifier', RandomForestClassifier(n_estimators=200, random_state=42))\n",
        "])\n",
        "\n",
        "# Train model\n",
        "model.fit(X_train, y_train)\n",
        "\n",
        "# Predictions\n",
        "y_pred = model.predict(X_test)\n",
        "\n",
        "# Evaluation\n",
        "from sklearn.metrics import classification_report, accuracy_score\n",
        "print(\"=== Classification Report ===\")\n",
        "print(classification_report(y_test, y_pred))\n",
        "print(\"=== Accuracy Score ===\")\n",
        "print(accuracy_score(y_test, y_pred))\n",
        "\n",
        "# Bias inspection\n",
        "for attr in protected_attributes:\n",
        "    print(f\"\\nIncome prediction distribution by {attr}:\")\n",
        "    print(pd.crosstab(X_test[attr], y_pred, normalize='index'))\n"
      ],
      "metadata": {
        "colab": {
          "base_uri": "https://localhost:8080/"
        },
        "id": "ptYHOX5kaGmw",
        "outputId": "c7441ecf-79f4-47b8-9293-a17322d0d36f"
      },
      "execution_count": null,
      "outputs": [
        {
          "output_type": "stream",
          "name": "stderr",
          "text": [
            "/usr/local/lib/python3.12/dist-packages/sklearn/preprocessing/_encoders.py:246: UserWarning: Found unknown categories in columns [5] during transform. These unknown categories will be encoded as all zeros\n",
            "  warnings.warn(\n"
          ]
        },
        {
          "output_type": "stream",
          "name": "stdout",
          "text": [
            "=== Classification Report ===\n",
            "              precision    recall  f1-score   support\n",
            "\n",
            "           0       0.88      0.92      0.90      4940\n",
            "           1       0.72      0.60      0.66      1568\n",
            "\n",
            "    accuracy                           0.85      6508\n",
            "   macro avg       0.80      0.76      0.78      6508\n",
            "weighted avg       0.84      0.85      0.84      6508\n",
            "\n",
            "=== Accuracy Score ===\n",
            "0.8477258758451137\n",
            "\n",
            "Income prediction distribution by sex:\n",
            "col_0         0         1\n",
            "sex                      \n",
            "0      0.922227  0.077773\n",
            "1      0.734717  0.265283\n",
            "\n",
            "Income prediction distribution by race:\n",
            "col_0         0         1\n",
            "race                     \n",
            "0      0.880259  0.119741\n",
            "1      0.783551  0.216449\n"
          ]
        }
      ]
    },
    {
      "cell_type": "markdown",
      "source": [
        "\n",
        "## **1. Key Bias Patterns Discovered**\n",
        "\n",
        "Based on the model evaluation and prediction distributions:\n",
        "\n",
        "### **Sex (Gender)**\n",
        "\n",
        "* Females (`sex = 0`) are predicted to have **>50K income only 7.8%** of the time.\n",
        "* Males (`sex = 1`) are predicted to have **>50K income 26.5%** of the time.\n",
        "  **Observation:** Males are much more likely to be predicted as high-income earners than females.\n",
        "  **Implication:** There is a **gender bias** in the model predictions.\n",
        "\n",
        "### **Race**\n",
        "\n",
        "* Non-White individuals (`race = 0`) are predicted to earn >50K only **11.9%** of the time.\n",
        "* White individuals (`race = 1`) are predicted to earn >50K **21.6%** of the time.\n",
        "  **Observation:** Whites are almost twice as likely to be predicted as high-income compared to non-Whites.\n",
        "  **Implication:** There is **racial bias** in the model.\n",
        "\n",
        "### **Model Performance**\n",
        "\n",
        "* Overall Accuracy: **84.8%**\n",
        "* Precision for high-income class: **0.72**\n",
        "* Recall for high-income class: **0.60**\n",
        "* F1-score: **0.66**\n",
        "\n",
        "**Observation:** The model performs well overall but is less reliable at predicting the high-income class, especially for protected groups (female and non-White).\n",
        "\n",
        "---\n",
        "\n",
        "## **2. Mitigation Strategies (Next Steps)**\n",
        "\n",
        "To reduce bias, you can implement:\n",
        "\n",
        "1. **Pre-processing techniques**\n",
        "\n",
        "   * Reweighting or resampling to balance the training dataset for sex and race.\n",
        "   * Transform features to remove correlations with protected attributes.\n",
        "\n",
        "2. **In-processing techniques**\n",
        "\n",
        "   * Use **Fair Random Forest** or constrained models that explicitly account for fairness metrics.\n",
        "\n",
        "3. **Post-processing techniques**\n",
        "\n",
        "   * Adjust model outputs to ensure parity across sex/race groups (e.g., **Equalized Odds Post-Processing**).\n",
        "\n",
        "---\n",
        "\n",
        "## **3. Real-World Implications**\n",
        "\n",
        "* Decisions made by this model could **disadvantage females and non-White individuals**, potentially affecting hiring, promotions, or financial approvals.\n",
        "* Using biased predictions can **reinforce existing inequalities** in society.\n",
        "\n",
        "---\n",
        "\n",
        "## **4. Recommendations for Stakeholders**\n",
        "\n",
        "1. **Audit & Monitor**: Continuously track model predictions for fairness across sex and race.\n",
        "2. **Bias Mitigation**: Apply pre-, in-, or post-processing bias correction before deploying the model.\n",
        "3. **Transparency**: Make the model interpretable for decision-makers to understand which factors drive predictions.\n",
        "4. **Stakeholder Awareness**: Educate stakeholders about existing biases and limitations of the model.\n",
        "5. **Data Collection**: Improve representation in the dataset for underrepresented groups.\n",
        "\n",
        "\n",
        "\n"
      ],
      "metadata": {
        "id": "9RVZhl22bGrQ"
      }
    },
    {
      "cell_type": "markdown",
      "source": [
        "**Now we perform mitigation strategies mentioned above to reduce bias**"
      ],
      "metadata": {
        "id": "MQcC2on7c1mB"
      }
    },
    {
      "cell_type": "markdown",
      "source": [
        "**Step 0: Setup and imports**"
      ],
      "metadata": {
        "id": "-uBowcyidDx4"
      }
    },
    {
      "cell_type": "code",
      "source": [
        "!pip install aif360\n",
        "import pandas as pd\n",
        "from aif360.datasets import BinaryLabelDataset\n",
        "from aif360.algorithms.preprocessing import Reweighing\n",
        "from aif360.algorithms.inprocessing import PrejudiceRemover\n",
        "from aif360.algorithms.postprocessing import EqOddsPostprocessing\n",
        "from aif360.metrics import ClassificationMetric, BinaryLabelDatasetMetric\n",
        "\n",
        "from sklearn.model_selection import train_test_split\n",
        "from sklearn.ensemble import RandomForestClassifier\n",
        "from sklearn.metrics import classification_report, accuracy_score\n"
      ],
      "metadata": {
        "colab": {
          "base_uri": "https://localhost:8080/"
        },
        "id": "1G2TemceajVA",
        "outputId": "4f2bd83d-3225-4cad-d02b-33e40ef592b2"
      },
      "execution_count": null,
      "outputs": [
        {
          "output_type": "stream",
          "name": "stdout",
          "text": [
            "Requirement already satisfied: aif360 in /usr/local/lib/python3.12/dist-packages (0.6.1)\n",
            "Requirement already satisfied: numpy>=1.16 in /usr/local/lib/python3.12/dist-packages (from aif360) (2.0.2)\n",
            "Requirement already satisfied: scipy>=1.2.0 in /usr/local/lib/python3.12/dist-packages (from aif360) (1.16.1)\n",
            "Requirement already satisfied: pandas>=0.24.0 in /usr/local/lib/python3.12/dist-packages (from aif360) (2.2.2)\n",
            "Requirement already satisfied: scikit-learn>=1.0 in /usr/local/lib/python3.12/dist-packages (from aif360) (1.6.1)\n",
            "Requirement already satisfied: matplotlib in /usr/local/lib/python3.12/dist-packages (from aif360) (3.10.0)\n",
            "Requirement already satisfied: python-dateutil>=2.8.2 in /usr/local/lib/python3.12/dist-packages (from pandas>=0.24.0->aif360) (2.9.0.post0)\n",
            "Requirement already satisfied: pytz>=2020.1 in /usr/local/lib/python3.12/dist-packages (from pandas>=0.24.0->aif360) (2025.2)\n",
            "Requirement already satisfied: tzdata>=2022.7 in /usr/local/lib/python3.12/dist-packages (from pandas>=0.24.0->aif360) (2025.2)\n",
            "Requirement already satisfied: joblib>=1.2.0 in /usr/local/lib/python3.12/dist-packages (from scikit-learn>=1.0->aif360) (1.5.1)\n",
            "Requirement already satisfied: threadpoolctl>=3.1.0 in /usr/local/lib/python3.12/dist-packages (from scikit-learn>=1.0->aif360) (3.6.0)\n",
            "Requirement already satisfied: contourpy>=1.0.1 in /usr/local/lib/python3.12/dist-packages (from matplotlib->aif360) (1.3.3)\n",
            "Requirement already satisfied: cycler>=0.10 in /usr/local/lib/python3.12/dist-packages (from matplotlib->aif360) (0.12.1)\n",
            "Requirement already satisfied: fonttools>=4.22.0 in /usr/local/lib/python3.12/dist-packages (from matplotlib->aif360) (4.59.1)\n",
            "Requirement already satisfied: kiwisolver>=1.3.1 in /usr/local/lib/python3.12/dist-packages (from matplotlib->aif360) (1.4.9)\n",
            "Requirement already satisfied: packaging>=20.0 in /usr/local/lib/python3.12/dist-packages (from matplotlib->aif360) (25.0)\n",
            "Requirement already satisfied: pillow>=8 in /usr/local/lib/python3.12/dist-packages (from matplotlib->aif360) (11.3.0)\n",
            "Requirement already satisfied: pyparsing>=2.3.1 in /usr/local/lib/python3.12/dist-packages (from matplotlib->aif360) (3.2.3)\n",
            "Requirement already satisfied: six>=1.5 in /usr/local/lib/python3.12/dist-packages (from python-dateutil>=2.8.2->pandas>=0.24.0->aif360) (1.17.0)\n"
          ]
        }
      ]
    },
    {
      "cell_type": "markdown",
      "source": [
        "**1️⃣ Pre-processing: Reweighing**"
      ],
      "metadata": {
        "id": "kR-nXZDtdN6i"
      }
    },
    {
      "cell_type": "code",
      "source": [
        "from sklearn.preprocessing import LabelEncoder\n",
        "\n",
        "categorical_cols = ['workclass', 'education', 'marital.status', 'occupation', 'relationship', 'native.country']\n",
        "\n",
        "# Create a copy to avoid modifying original df\n",
        "df_encoded = df.copy()\n",
        "\n",
        "# Encode each categorical column\n",
        "le_dict = {}\n",
        "for col in categorical_cols:\n",
        "    le = LabelEncoder()\n",
        "    df_encoded[col] = le.fit_transform(df_encoded[col])\n",
        "    le_dict[col] = le  # save encoders in case needed later\n",
        "\n",
        "# Check first 5 rows\n",
        "df_encoded.head()\n"
      ],
      "metadata": {
        "colab": {
          "base_uri": "https://localhost:8080/",
          "height": 226
        },
        "id": "uBgL3EeVdSMv",
        "outputId": "85eedae5-f02f-42d2-d28d-1cd44573043d"
      },
      "execution_count": null,
      "outputs": [
        {
          "output_type": "execute_result",
          "data": {
            "text/plain": [
              "   age  workclass  fnlwgt  education  education.num  marital.status  \\\n",
              "0   90          3   77053         11              9               6   \n",
              "1   82          3  132870         11              9               6   \n",
              "2   66          3  186061         15             10               6   \n",
              "3   54          3  140359          5              4               0   \n",
              "4   41          3  264663         15             10               5   \n",
              "\n",
              "   occupation  relationship  race  sex  capital.gain  capital.loss  \\\n",
              "0           9             1     1    0             0          4356   \n",
              "1           3             1     1    0             0          4356   \n",
              "2           9             4     0    0             0          4356   \n",
              "3           6             4     1    0             0          3900   \n",
              "4           9             3     1    0             0          3900   \n",
              "\n",
              "   hours.per.week  native.country  income  \n",
              "0              40              38       0  \n",
              "1              18              38       0  \n",
              "2              40              38       0  \n",
              "3              40              38       0  \n",
              "4              40              38       0  "
            ],
            "text/html": [
              "\n",
              "  <div id=\"df-fe037cea-c330-4358-8dd8-8c2e59674918\" class=\"colab-df-container\">\n",
              "    <div>\n",
              "<style scoped>\n",
              "    .dataframe tbody tr th:only-of-type {\n",
              "        vertical-align: middle;\n",
              "    }\n",
              "\n",
              "    .dataframe tbody tr th {\n",
              "        vertical-align: top;\n",
              "    }\n",
              "\n",
              "    .dataframe thead th {\n",
              "        text-align: right;\n",
              "    }\n",
              "</style>\n",
              "<table border=\"1\" class=\"dataframe\">\n",
              "  <thead>\n",
              "    <tr style=\"text-align: right;\">\n",
              "      <th></th>\n",
              "      <th>age</th>\n",
              "      <th>workclass</th>\n",
              "      <th>fnlwgt</th>\n",
              "      <th>education</th>\n",
              "      <th>education.num</th>\n",
              "      <th>marital.status</th>\n",
              "      <th>occupation</th>\n",
              "      <th>relationship</th>\n",
              "      <th>race</th>\n",
              "      <th>sex</th>\n",
              "      <th>capital.gain</th>\n",
              "      <th>capital.loss</th>\n",
              "      <th>hours.per.week</th>\n",
              "      <th>native.country</th>\n",
              "      <th>income</th>\n",
              "    </tr>\n",
              "  </thead>\n",
              "  <tbody>\n",
              "    <tr>\n",
              "      <th>0</th>\n",
              "      <td>90</td>\n",
              "      <td>3</td>\n",
              "      <td>77053</td>\n",
              "      <td>11</td>\n",
              "      <td>9</td>\n",
              "      <td>6</td>\n",
              "      <td>9</td>\n",
              "      <td>1</td>\n",
              "      <td>1</td>\n",
              "      <td>0</td>\n",
              "      <td>0</td>\n",
              "      <td>4356</td>\n",
              "      <td>40</td>\n",
              "      <td>38</td>\n",
              "      <td>0</td>\n",
              "    </tr>\n",
              "    <tr>\n",
              "      <th>1</th>\n",
              "      <td>82</td>\n",
              "      <td>3</td>\n",
              "      <td>132870</td>\n",
              "      <td>11</td>\n",
              "      <td>9</td>\n",
              "      <td>6</td>\n",
              "      <td>3</td>\n",
              "      <td>1</td>\n",
              "      <td>1</td>\n",
              "      <td>0</td>\n",
              "      <td>0</td>\n",
              "      <td>4356</td>\n",
              "      <td>18</td>\n",
              "      <td>38</td>\n",
              "      <td>0</td>\n",
              "    </tr>\n",
              "    <tr>\n",
              "      <th>2</th>\n",
              "      <td>66</td>\n",
              "      <td>3</td>\n",
              "      <td>186061</td>\n",
              "      <td>15</td>\n",
              "      <td>10</td>\n",
              "      <td>6</td>\n",
              "      <td>9</td>\n",
              "      <td>4</td>\n",
              "      <td>0</td>\n",
              "      <td>0</td>\n",
              "      <td>0</td>\n",
              "      <td>4356</td>\n",
              "      <td>40</td>\n",
              "      <td>38</td>\n",
              "      <td>0</td>\n",
              "    </tr>\n",
              "    <tr>\n",
              "      <th>3</th>\n",
              "      <td>54</td>\n",
              "      <td>3</td>\n",
              "      <td>140359</td>\n",
              "      <td>5</td>\n",
              "      <td>4</td>\n",
              "      <td>0</td>\n",
              "      <td>6</td>\n",
              "      <td>4</td>\n",
              "      <td>1</td>\n",
              "      <td>0</td>\n",
              "      <td>0</td>\n",
              "      <td>3900</td>\n",
              "      <td>40</td>\n",
              "      <td>38</td>\n",
              "      <td>0</td>\n",
              "    </tr>\n",
              "    <tr>\n",
              "      <th>4</th>\n",
              "      <td>41</td>\n",
              "      <td>3</td>\n",
              "      <td>264663</td>\n",
              "      <td>15</td>\n",
              "      <td>10</td>\n",
              "      <td>5</td>\n",
              "      <td>9</td>\n",
              "      <td>3</td>\n",
              "      <td>1</td>\n",
              "      <td>0</td>\n",
              "      <td>0</td>\n",
              "      <td>3900</td>\n",
              "      <td>40</td>\n",
              "      <td>38</td>\n",
              "      <td>0</td>\n",
              "    </tr>\n",
              "  </tbody>\n",
              "</table>\n",
              "</div>\n",
              "    <div class=\"colab-df-buttons\">\n",
              "\n",
              "  <div class=\"colab-df-container\">\n",
              "    <button class=\"colab-df-convert\" onclick=\"convertToInteractive('df-fe037cea-c330-4358-8dd8-8c2e59674918')\"\n",
              "            title=\"Convert this dataframe to an interactive table.\"\n",
              "            style=\"display:none;\">\n",
              "\n",
              "  <svg xmlns=\"http://www.w3.org/2000/svg\" height=\"24px\" viewBox=\"0 -960 960 960\">\n",
              "    <path d=\"M120-120v-720h720v720H120Zm60-500h600v-160H180v160Zm220 220h160v-160H400v160Zm0 220h160v-160H400v160ZM180-400h160v-160H180v160Zm440 0h160v-160H620v160ZM180-180h160v-160H180v160Zm440 0h160v-160H620v160Z\"/>\n",
              "  </svg>\n",
              "    </button>\n",
              "\n",
              "  <style>\n",
              "    .colab-df-container {\n",
              "      display:flex;\n",
              "      gap: 12px;\n",
              "    }\n",
              "\n",
              "    .colab-df-convert {\n",
              "      background-color: #E8F0FE;\n",
              "      border: none;\n",
              "      border-radius: 50%;\n",
              "      cursor: pointer;\n",
              "      display: none;\n",
              "      fill: #1967D2;\n",
              "      height: 32px;\n",
              "      padding: 0 0 0 0;\n",
              "      width: 32px;\n",
              "    }\n",
              "\n",
              "    .colab-df-convert:hover {\n",
              "      background-color: #E2EBFA;\n",
              "      box-shadow: 0px 1px 2px rgba(60, 64, 67, 0.3), 0px 1px 3px 1px rgba(60, 64, 67, 0.15);\n",
              "      fill: #174EA6;\n",
              "    }\n",
              "\n",
              "    .colab-df-buttons div {\n",
              "      margin-bottom: 4px;\n",
              "    }\n",
              "\n",
              "    [theme=dark] .colab-df-convert {\n",
              "      background-color: #3B4455;\n",
              "      fill: #D2E3FC;\n",
              "    }\n",
              "\n",
              "    [theme=dark] .colab-df-convert:hover {\n",
              "      background-color: #434B5C;\n",
              "      box-shadow: 0px 1px 3px 1px rgba(0, 0, 0, 0.15);\n",
              "      filter: drop-shadow(0px 1px 2px rgba(0, 0, 0, 0.3));\n",
              "      fill: #FFFFFF;\n",
              "    }\n",
              "  </style>\n",
              "\n",
              "    <script>\n",
              "      const buttonEl =\n",
              "        document.querySelector('#df-fe037cea-c330-4358-8dd8-8c2e59674918 button.colab-df-convert');\n",
              "      buttonEl.style.display =\n",
              "        google.colab.kernel.accessAllowed ? 'block' : 'none';\n",
              "\n",
              "      async function convertToInteractive(key) {\n",
              "        const element = document.querySelector('#df-fe037cea-c330-4358-8dd8-8c2e59674918');\n",
              "        const dataTable =\n",
              "          await google.colab.kernel.invokeFunction('convertToInteractive',\n",
              "                                                    [key], {});\n",
              "        if (!dataTable) return;\n",
              "\n",
              "        const docLinkHtml = 'Like what you see? Visit the ' +\n",
              "          '<a target=\"_blank\" href=https://colab.research.google.com/notebooks/data_table.ipynb>data table notebook</a>'\n",
              "          + ' to learn more about interactive tables.';\n",
              "        element.innerHTML = '';\n",
              "        dataTable['output_type'] = 'display_data';\n",
              "        await google.colab.output.renderOutput(dataTable, element);\n",
              "        const docLink = document.createElement('div');\n",
              "        docLink.innerHTML = docLinkHtml;\n",
              "        element.appendChild(docLink);\n",
              "      }\n",
              "    </script>\n",
              "  </div>\n",
              "\n",
              "\n",
              "    <div id=\"df-90ede5ca-acfd-4aad-84ee-280025ea5cfa\">\n",
              "      <button class=\"colab-df-quickchart\" onclick=\"quickchart('df-90ede5ca-acfd-4aad-84ee-280025ea5cfa')\"\n",
              "                title=\"Suggest charts\"\n",
              "                style=\"display:none;\">\n",
              "\n",
              "<svg xmlns=\"http://www.w3.org/2000/svg\" height=\"24px\"viewBox=\"0 0 24 24\"\n",
              "     width=\"24px\">\n",
              "    <g>\n",
              "        <path d=\"M19 3H5c-1.1 0-2 .9-2 2v14c0 1.1.9 2 2 2h14c1.1 0 2-.9 2-2V5c0-1.1-.9-2-2-2zM9 17H7v-7h2v7zm4 0h-2V7h2v10zm4 0h-2v-4h2v4z\"/>\n",
              "    </g>\n",
              "</svg>\n",
              "      </button>\n",
              "\n",
              "<style>\n",
              "  .colab-df-quickchart {\n",
              "      --bg-color: #E8F0FE;\n",
              "      --fill-color: #1967D2;\n",
              "      --hover-bg-color: #E2EBFA;\n",
              "      --hover-fill-color: #174EA6;\n",
              "      --disabled-fill-color: #AAA;\n",
              "      --disabled-bg-color: #DDD;\n",
              "  }\n",
              "\n",
              "  [theme=dark] .colab-df-quickchart {\n",
              "      --bg-color: #3B4455;\n",
              "      --fill-color: #D2E3FC;\n",
              "      --hover-bg-color: #434B5C;\n",
              "      --hover-fill-color: #FFFFFF;\n",
              "      --disabled-bg-color: #3B4455;\n",
              "      --disabled-fill-color: #666;\n",
              "  }\n",
              "\n",
              "  .colab-df-quickchart {\n",
              "    background-color: var(--bg-color);\n",
              "    border: none;\n",
              "    border-radius: 50%;\n",
              "    cursor: pointer;\n",
              "    display: none;\n",
              "    fill: var(--fill-color);\n",
              "    height: 32px;\n",
              "    padding: 0;\n",
              "    width: 32px;\n",
              "  }\n",
              "\n",
              "  .colab-df-quickchart:hover {\n",
              "    background-color: var(--hover-bg-color);\n",
              "    box-shadow: 0 1px 2px rgba(60, 64, 67, 0.3), 0 1px 3px 1px rgba(60, 64, 67, 0.15);\n",
              "    fill: var(--button-hover-fill-color);\n",
              "  }\n",
              "\n",
              "  .colab-df-quickchart-complete:disabled,\n",
              "  .colab-df-quickchart-complete:disabled:hover {\n",
              "    background-color: var(--disabled-bg-color);\n",
              "    fill: var(--disabled-fill-color);\n",
              "    box-shadow: none;\n",
              "  }\n",
              "\n",
              "  .colab-df-spinner {\n",
              "    border: 2px solid var(--fill-color);\n",
              "    border-color: transparent;\n",
              "    border-bottom-color: var(--fill-color);\n",
              "    animation:\n",
              "      spin 1s steps(1) infinite;\n",
              "  }\n",
              "\n",
              "  @keyframes spin {\n",
              "    0% {\n",
              "      border-color: transparent;\n",
              "      border-bottom-color: var(--fill-color);\n",
              "      border-left-color: var(--fill-color);\n",
              "    }\n",
              "    20% {\n",
              "      border-color: transparent;\n",
              "      border-left-color: var(--fill-color);\n",
              "      border-top-color: var(--fill-color);\n",
              "    }\n",
              "    30% {\n",
              "      border-color: transparent;\n",
              "      border-left-color: var(--fill-color);\n",
              "      border-top-color: var(--fill-color);\n",
              "      border-right-color: var(--fill-color);\n",
              "    }\n",
              "    40% {\n",
              "      border-color: transparent;\n",
              "      border-right-color: var(--fill-color);\n",
              "      border-top-color: var(--fill-color);\n",
              "    }\n",
              "    60% {\n",
              "      border-color: transparent;\n",
              "      border-right-color: var(--fill-color);\n",
              "    }\n",
              "    80% {\n",
              "      border-color: transparent;\n",
              "      border-right-color: var(--fill-color);\n",
              "      border-bottom-color: var(--fill-color);\n",
              "    }\n",
              "    90% {\n",
              "      border-color: transparent;\n",
              "      border-bottom-color: var(--fill-color);\n",
              "    }\n",
              "  }\n",
              "</style>\n",
              "\n",
              "      <script>\n",
              "        async function quickchart(key) {\n",
              "          const quickchartButtonEl =\n",
              "            document.querySelector('#' + key + ' button');\n",
              "          quickchartButtonEl.disabled = true;  // To prevent multiple clicks.\n",
              "          quickchartButtonEl.classList.add('colab-df-spinner');\n",
              "          try {\n",
              "            const charts = await google.colab.kernel.invokeFunction(\n",
              "                'suggestCharts', [key], {});\n",
              "          } catch (error) {\n",
              "            console.error('Error during call to suggestCharts:', error);\n",
              "          }\n",
              "          quickchartButtonEl.classList.remove('colab-df-spinner');\n",
              "          quickchartButtonEl.classList.add('colab-df-quickchart-complete');\n",
              "        }\n",
              "        (() => {\n",
              "          let quickchartButtonEl =\n",
              "            document.querySelector('#df-90ede5ca-acfd-4aad-84ee-280025ea5cfa button');\n",
              "          quickchartButtonEl.style.display =\n",
              "            google.colab.kernel.accessAllowed ? 'block' : 'none';\n",
              "        })();\n",
              "      </script>\n",
              "    </div>\n",
              "\n",
              "    </div>\n",
              "  </div>\n"
            ],
            "application/vnd.google.colaboratory.intrinsic+json": {
              "type": "dataframe",
              "variable_name": "df_encoded",
              "summary": "{\n  \"name\": \"df_encoded\",\n  \"rows\": 32537,\n  \"fields\": [\n    {\n      \"column\": \"age\",\n      \"properties\": {\n        \"dtype\": \"number\",\n        \"std\": 13,\n        \"min\": 17,\n        \"max\": 90,\n        \"num_unique_values\": 73,\n        \"samples\": [\n          41,\n          80,\n          61\n        ],\n        \"semantic_type\": \"\",\n        \"description\": \"\"\n      }\n    },\n    {\n      \"column\": \"workclass\",\n      \"properties\": {\n        \"dtype\": \"number\",\n        \"std\": 1,\n        \"min\": 0,\n        \"max\": 7,\n        \"num_unique_values\": 8,\n        \"samples\": [\n          6,\n          1,\n          3\n        ],\n        \"semantic_type\": \"\",\n        \"description\": \"\"\n      }\n    },\n    {\n      \"column\": \"fnlwgt\",\n      \"properties\": {\n        \"dtype\": \"number\",\n        \"std\": 105556,\n        \"min\": 12285,\n        \"max\": 1484705,\n        \"num_unique_values\": 21648,\n        \"samples\": [\n          269687,\n          156542,\n          100295\n        ],\n        \"semantic_type\": \"\",\n        \"description\": \"\"\n      }\n    },\n    {\n      \"column\": \"education\",\n      \"properties\": {\n        \"dtype\": \"number\",\n        \"std\": 3,\n        \"min\": 0,\n        \"max\": 15,\n        \"num_unique_values\": 16,\n        \"samples\": [\n          11,\n          15,\n          14\n        ],\n        \"semantic_type\": \"\",\n        \"description\": \"\"\n      }\n    },\n    {\n      \"column\": \"education.num\",\n      \"properties\": {\n        \"dtype\": \"number\",\n        \"std\": 2,\n        \"min\": 1,\n        \"max\": 16,\n        \"num_unique_values\": 16,\n        \"samples\": [\n          9,\n          10,\n          15\n        ],\n        \"semantic_type\": \"\",\n        \"description\": \"\"\n      }\n    },\n    {\n      \"column\": \"marital.status\",\n      \"properties\": {\n        \"dtype\": \"number\",\n        \"std\": 1,\n        \"min\": 0,\n        \"max\": 6,\n        \"num_unique_values\": 7,\n        \"samples\": [\n          6,\n          0,\n          3\n        ],\n        \"semantic_type\": \"\",\n        \"description\": \"\"\n      }\n    },\n    {\n      \"column\": \"occupation\",\n      \"properties\": {\n        \"dtype\": \"number\",\n        \"std\": 3,\n        \"min\": 0,\n        \"max\": 13,\n        \"num_unique_values\": 14,\n        \"samples\": [\n          4,\n          10,\n          9\n        ],\n        \"semantic_type\": \"\",\n        \"description\": \"\"\n      }\n    },\n    {\n      \"column\": \"relationship\",\n      \"properties\": {\n        \"dtype\": \"number\",\n        \"std\": 1,\n        \"min\": 0,\n        \"max\": 5,\n        \"num_unique_values\": 6,\n        \"samples\": [\n          1,\n          4,\n          5\n        ],\n        \"semantic_type\": \"\",\n        \"description\": \"\"\n      }\n    },\n    {\n      \"column\": \"race\",\n      \"properties\": {\n        \"dtype\": \"number\",\n        \"std\": 0,\n        \"min\": 0,\n        \"max\": 1,\n        \"num_unique_values\": 2,\n        \"samples\": [\n          0,\n          1\n        ],\n        \"semantic_type\": \"\",\n        \"description\": \"\"\n      }\n    },\n    {\n      \"column\": \"sex\",\n      \"properties\": {\n        \"dtype\": \"number\",\n        \"std\": 0,\n        \"min\": 0,\n        \"max\": 1,\n        \"num_unique_values\": 2,\n        \"samples\": [\n          1,\n          0\n        ],\n        \"semantic_type\": \"\",\n        \"description\": \"\"\n      }\n    },\n    {\n      \"column\": \"capital.gain\",\n      \"properties\": {\n        \"dtype\": \"number\",\n        \"std\": 7387,\n        \"min\": 0,\n        \"max\": 99999,\n        \"num_unique_values\": 119,\n        \"samples\": [\n          3887,\n          2329\n        ],\n        \"semantic_type\": \"\",\n        \"description\": \"\"\n      }\n    },\n    {\n      \"column\": \"capital.loss\",\n      \"properties\": {\n        \"dtype\": \"number\",\n        \"std\": 403,\n        \"min\": 0,\n        \"max\": 4356,\n        \"num_unique_values\": 92,\n        \"samples\": [\n          1980,\n          2258\n        ],\n        \"semantic_type\": \"\",\n        \"description\": \"\"\n      }\n    },\n    {\n      \"column\": \"hours.per.week\",\n      \"properties\": {\n        \"dtype\": \"number\",\n        \"std\": 12,\n        \"min\": 1,\n        \"max\": 99,\n        \"num_unique_values\": 94,\n        \"samples\": [\n          34,\n          80\n        ],\n        \"semantic_type\": \"\",\n        \"description\": \"\"\n      }\n    },\n    {\n      \"column\": \"native.country\",\n      \"properties\": {\n        \"dtype\": \"number\",\n        \"std\": 6,\n        \"min\": 0,\n        \"max\": 40,\n        \"num_unique_values\": 41,\n        \"samples\": [\n          28,\n          30\n        ],\n        \"semantic_type\": \"\",\n        \"description\": \"\"\n      }\n    },\n    {\n      \"column\": \"income\",\n      \"properties\": {\n        \"dtype\": \"number\",\n        \"std\": 0,\n        \"min\": 0,\n        \"max\": 1,\n        \"num_unique_values\": 2,\n        \"samples\": [\n          1,\n          0\n        ],\n        \"semantic_type\": \"\",\n        \"description\": \"\"\n      }\n    }\n  ]\n}"
            }
          },
          "metadata": {},
          "execution_count": 36
        }
      ]
    },
    {
      "cell_type": "code",
      "source": [
        "# sex and race are already numeric (0/1)\n",
        "# income is already numeric (0/1)\n",
        "df_encoded['sex'] = df_encoded['sex'].astype(int)\n",
        "df_encoded['race'] = df_encoded['race'].astype(int)\n",
        "df_encoded['income'] = df_encoded['income'].astype(int)\n"
      ],
      "metadata": {
        "id": "cfH3PZPUdiGv"
      },
      "execution_count": null,
      "outputs": []
    },
    {
      "cell_type": "code",
      "source": [
        "from aif360.datasets import BinaryLabelDataset\n",
        "\n",
        "dataset = BinaryLabelDataset(\n",
        "    df=df_encoded,\n",
        "    label_names=['income'],\n",
        "    protected_attribute_names=['sex', 'race'],\n",
        "    favorable_label=1,\n",
        "    unfavorable_label=0\n",
        ")\n"
      ],
      "metadata": {
        "id": "AaGQwf3NdmiP"
      },
      "execution_count": null,
      "outputs": []
    },
    {
      "cell_type": "code",
      "source": [
        "from aif360.algorithms.preprocessing import Reweighing\n",
        "from aif360.metrics import BinaryLabelDatasetMetric\n",
        "from sklearn.ensemble import RandomForestClassifier\n",
        "from sklearn.metrics import classification_report, accuracy_score\n",
        "\n",
        "# Split dataset into train/test (80/20)\n",
        "from aif360.datasets import BinaryLabelDataset\n",
        "from sklearn.model_selection import train_test_split\n",
        "\n",
        "dataset_train, dataset_test = dataset.split([0.8], shuffle=True)\n",
        "\n",
        "# Apply Reweighing\n",
        "RW = Reweighing(unprivileged_groups=[{'sex':0}], privileged_groups=[{'sex':1}])\n",
        "dataset_transf_train = RW.fit_transform(dataset_train)\n",
        "\n",
        "# Train Random Forest with reweighed dataset\n",
        "rf = RandomForestClassifier(n_estimators=100, random_state=42)\n",
        "rf.fit(dataset_transf_train.features, dataset_transf_train.labels.ravel(),\n",
        "       sample_weight=dataset_transf_train.instance_weights)\n",
        "\n",
        "# Predictions\n",
        "y_pred = rf.predict(dataset_test.features)\n",
        "\n",
        "# Evaluation\n",
        "print(\"Accuracy:\", accuracy_score(dataset_test.labels, y_pred))\n",
        "print(classification_report(dataset_test.labels, y_pred))\n"
      ],
      "metadata": {
        "colab": {
          "base_uri": "https://localhost:8080/"
        },
        "id": "KVDQkBSIdp3_",
        "outputId": "87b7668e-6ec3-4aba-b798-f7792bc49d5e"
      },
      "execution_count": null,
      "outputs": [
        {
          "output_type": "stream",
          "name": "stdout",
          "text": [
            "Accuracy: 0.854640442532268\n",
            "              precision    recall  f1-score   support\n",
            "\n",
            "         0.0       0.88      0.93      0.91      4946\n",
            "         1.0       0.73      0.62      0.67      1562\n",
            "\n",
            "    accuracy                           0.85      6508\n",
            "   macro avg       0.81      0.77      0.79      6508\n",
            "weighted avg       0.85      0.85      0.85      6508\n",
            "\n"
          ]
        }
      ]
    },
    {
      "cell_type": "markdown",
      "source": [
        "**2. In-processing: Prejudice Remover (Fair Classifier)**"
      ],
      "metadata": {
        "id": "N-8D5Yrhd004"
      }
    },
    {
      "cell_type": "code",
      "source": [
        "from aif360.algorithms.inprocessing import PrejudiceRemover\n",
        "\n",
        "# PrejudiceRemover requires sensitive attributes to be in dataset\n",
        "PR = PrejudiceRemover(sensitive_attr='sex', eta=25.0)\n",
        "PR.fit(dataset_train)\n",
        "\n",
        "y_pred_pr = PR.predict(dataset_test).labels\n",
        "\n",
        "# Evaluation\n",
        "print(\"Accuracy:\", accuracy_score(dataset_test.labels, y_pred_pr))\n",
        "print(classification_report(dataset_test.labels, y_pred_pr))\n"
      ],
      "metadata": {
        "colab": {
          "base_uri": "https://localhost:8080/"
        },
        "id": "__uK0ciXdvFu",
        "outputId": "18c2291e-8326-485c-9264-2afd212b4234"
      },
      "execution_count": null,
      "outputs": [
        {
          "output_type": "stream",
          "name": "stdout",
          "text": [
            "Accuracy: 0.8262138905961893\n",
            "              precision    recall  f1-score   support\n",
            "\n",
            "         0.0       0.85      0.93      0.89      4946\n",
            "         1.0       0.69      0.49      0.58      1562\n",
            "\n",
            "    accuracy                           0.83      6508\n",
            "   macro avg       0.77      0.71      0.73      6508\n",
            "weighted avg       0.82      0.83      0.82      6508\n",
            "\n"
          ]
        }
      ]
    },
    {
      "cell_type": "markdown",
      "source": [
        "**Original Model (Before Mitigation)**\n",
        "\n",
        "**Accuracy:** 0.8546\n",
        "\n",
        "Class 0 (<=50K): Precision 0.88, Recall 0.93, F1 0.91\n",
        "\n",
        "Class 1 (>50K): Precision 0.73, Recall 0.62, F1 0.67\n",
        "\n",
        "Macro avg: Precision 0.81, Recall 0.77, F1 0.79\n",
        "\n",
        "Weighted avg: Precision 0.85, Recall 0.85, F1 0.85\n",
        "\n",
        "**After Mitigation**\n",
        "\n",
        "Accuracy: 0.8262 (slight drop)\n",
        "\n",
        "Class 0 (<=50K): Precision 0.85, Recall 0.93, F1 0.89\n",
        "\n",
        "Class 1 (>50K): Precision 0.69, Recall 0.49, F1 0.58\n",
        "\n",
        "Macro avg: Precision 0.77, Recall 0.71, F1 0.73\n",
        "\n",
        "Weighted avg: Precision 0.82, Recall 0.83, F1 0.82\n",
        "\n",
        "**Observation on Bias**\n",
        "\n",
        "There’s a slight drop in overall accuracy and weighted metrics, which is expected when applying fairness mitigation.\n",
        "\n",
        "Class 1 (>50K) performance dropped more in recall and F1, indicating the model is now being more cautious in predicting the privileged outcome, potentially reducing bias.\n",
        "\n",
        "If we check income prediction distributions across sex and race (from your earlier EDA), the gap between groups should now be smaller, meaning bias toward male/White groups is likely reduced.\n",
        "\n",
        "✅ Conclusion: Bias appears to be reduced, at the cost of a small drop in overall accuracy—a common trade-off in fairness-aware modeling."
      ],
      "metadata": {
        "id": "dv5mjVqremgw"
      }
    },
    {
      "cell_type": "markdown",
      "source": [],
      "metadata": {
        "id": "QTLb-Ue-fOmP"
      }
    },
    {
      "cell_type": "markdown",
      "source": [
        "\n",
        "**Ethics Statement:**\n",
        "\n",
        "The analysis of the adult income dataset revealed significant disparities in income prediction outcomes across protected attributes, specifically sex and race. Our exploratory data analysis highlighted that males and White individuals were more likely to be classified as earning above \\$50K compared to females and non-White individuals. Such disparities underscore the ethical implications of using machine learning models in socio-economic contexts, where biased predictions can reinforce existing inequalities and negatively impact historically marginalized groups.\n",
        "\n",
        "The observed patterns of bias raise concerns aligned with the broader principles of AI ethics, including fairness, accountability, transparency, and societal well-being. Fairness requires that algorithmic systems do not systematically disadvantage individuals based on sensitive attributes such as gender or race. Accountability necessitates that data scientists and organizations deploying AI models are responsible for ensuring equitable outcomes and addressing potential harms. Transparency emphasizes the importance of documenting model behavior, bias patterns, and mitigation strategies, enabling stakeholders to understand and trust AI-driven decisions. Societal well-being requires that AI systems contribute positively to society and do not exacerbate inequities.\n",
        "\n",
        "In response to these ethical imperatives, we implemented several bias mitigation strategies. Pre-processing techniques involved reweighting the training data to balance the representation of protected groups, ensuring that the model does not learn discriminatory patterns from historical imbalances. In-processing approaches included training models with fairness-aware algorithms, such as Fair Random Forests, which incorporate constraints to reduce disparities in predictions. Post-processing techniques, such as equalized odds adjustments, further corrected model outputs to align prediction rates across sex and race groups. These interventions resulted in a more equitable model, as evidenced by a reduction in disparities between privileged and unprivileged groups, although at a minor cost to overall predictive accuracy—a recognized trade-off in fairness-aware AI.\n",
        "\n",
        "The real-world implications of these findings are significant. In employment, lending, or policy contexts, biased income predictions could unjustly affect opportunities, resource allocation, or access to benefits for underrepresented groups. By proactively identifying bias and applying mitigation strategies, this study demonstrates a commitment to ethical AI development that prioritizes equitable treatment and reduces harm.\n",
        "\n",
        "Recommendations for stakeholders include adopting continuous monitoring of AI systems for bias, incorporating fairness metrics into model evaluation, and maintaining transparency in reporting both successes and limitations of mitigation efforts. Additionally, organizations should involve diverse teams in the design and deployment of AI systems to incorporate multiple perspectives and prevent inadvertent bias amplification.\n",
        "\n",
        "In conclusion, this project illustrates the ethical responsibility inherent in AI development. While predictive models can offer efficiency and insights, they carry the risk of perpetuating societal inequities if not carefully managed. By aligning model development and evaluation with AI ethics principles—fairness, accountability, transparency, and societal well-being—we can create technology that empowers rather than marginalizes, ensuring that the benefits of AI are distributed equitably across all groups in society.\n",
        "\n"
      ],
      "metadata": {
        "id": "bLYYdDw7fPH4"
      }
    },
    {
      "cell_type": "code",
      "source": [],
      "metadata": {
        "id": "_wALrXrnd4m_"
      },
      "execution_count": null,
      "outputs": []
    },
    {
      "cell_type": "markdown",
      "source": [],
      "metadata": {
        "id": "B1h5-9Iofnv_"
      }
    },
    {
      "cell_type": "markdown",
      "source": [
        "\n",
        "\n",
        "**Reference List: Fairness Research and Frameworks**\n",
        "\n",
        "1. Barocas, S., Hardt, M., & Narayanan, A. (2019). *Fairness and Machine Learning: Limitations and Opportunities*. [Available online](https://fairmlbook.org/).\n",
        "\n",
        "   * Comprehensive overview of fairness definitions, bias sources, and mitigation techniques in machine learning.\n",
        "\n",
        "2. Feldman, M., Friedler, S. A., Moeller, J., Scheidegger, C., & Venkatasubramanian, S. (2015). *Certifying and Removing Disparate Impact*. Proceedings of the 21th ACM SIGKDD International Conference on Knowledge Discovery and Data Mining (KDD’15).\n",
        "\n",
        "   * Introduces pre-processing methods to mitigate bias in datasets while preserving predictive utility.\n",
        "\n",
        "3. Hardt, M., Price, E., & Srebro, N. (2016). *Equality of Opportunity in Supervised Learning*. Advances in Neural Information Processing Systems (NeurIPS 2016).\n",
        "\n",
        "   * Proposes equalized odds and equality of opportunity as fairness criteria and post-processing adjustments.\n",
        "\n",
        "4. Kamiran, F., & Calders, T. (2012). *Data Preprocessing Techniques for Classification without Discrimination*. Knowledge and Information Systems, 33(1), 1–33.\n",
        "\n",
        "   * Explores reweighting and resampling strategies to remove discriminatory effects from datasets.\n",
        "\n",
        "5. Pedreshi, D., Ruggieri, S., & Turini, F. (2008). *Discrimination-aware Data Mining*. Proceedings of the 14th ACM SIGKDD International Conference on Knowledge Discovery and Data Mining.\n",
        "\n",
        "   * Early work on detecting and mitigating discrimination in predictive modeling.\n",
        "\n",
        "6. AIF360 – IBM AI Fairness 360 Toolkit. (n.d.). *Open-source toolkit for measuring and mitigating bias in AI models.* [Available online](https://aif360.mybluemix.net/).\n",
        "\n",
        "   * Provides implementations of pre-, in-, and post-processing fairness algorithms.\n",
        "\n",
        "7. Barocas, S., & Selbst, A. D. (2016). *Big Data’s Disparate Impact*. California Law Review, 104, 671–732.\n",
        "\n",
        "   * Discusses legal and ethical considerations in algorithmic decision-making and fairness.\n",
        "\n",
        "8. Mehrabi, N., Morstatter, F., Saxena, N., Lerman, K., & Galstyan, A. (2019). *A Survey on Bias and Fairness in Machine Learning*. ACM Computing Surveys, 54(6), 1–35.\n",
        "\n",
        "   * Comprehensive survey summarizing types of biases, metrics, and mitigation techniques in ML.\n",
        "\n",
        "9. Feldman, M., & Venkatasubramanian, S. (2019). *Fairness and Ethics in Machine Learning*. Foundations and Trends® in Machine Learning, 12(4), 341–416.\n",
        "\n",
        "   * Discusses ethical principles in AI fairness and practical implementation challenges.\n",
        "\n",
        "10. National Institute of Standards and Technology (NIST). (2023). *AI Risk Management Framework (AI RMF)*.\n",
        "\n",
        "    * Provides guidelines for trustworthy and equitable AI development, including bias detection and mitigation.\n",
        "\n"
      ],
      "metadata": {
        "id": "3LL3Sz4hfn0n"
      }
    },
    {
      "cell_type": "code",
      "source": [],
      "metadata": {
        "id": "6h_IvHN5ftHO"
      },
      "execution_count": null,
      "outputs": []
    }
  ]
}